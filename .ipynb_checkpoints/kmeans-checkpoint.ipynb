{
 "cells": [
  {
   "cell_type": "code",
   "execution_count": 1,
   "id": "cee546a1",
   "metadata": {},
   "outputs": [],
   "source": [
    "import numpy as np\n",
    "import pandas as pd"
   ]
  },
  {
   "cell_type": "code",
   "execution_count": 2,
   "id": "2dc7c517",
   "metadata": {},
   "outputs": [],
   "source": [
    "df = pd.read_csv('test_kmeans.csv', encoding='ISO-8859-1')"
   ]
  },
  {
   "cell_type": "code",
   "execution_count": 3,
   "id": "721d4e3d",
   "metadata": {},
   "outputs": [
    {
     "data": {
      "text/html": [
       "<div>\n",
       "<style scoped>\n",
       "    .dataframe tbody tr th:only-of-type {\n",
       "        vertical-align: middle;\n",
       "    }\n",
       "\n",
       "    .dataframe tbody tr th {\n",
       "        vertical-align: top;\n",
       "    }\n",
       "\n",
       "    .dataframe thead th {\n",
       "        text-align: right;\n",
       "    }\n",
       "</style>\n",
       "<table border=\"1\" class=\"dataframe\">\n",
       "  <thead>\n",
       "    <tr style=\"text-align: right;\">\n",
       "      <th></th>\n",
       "      <th>x</th>\n",
       "      <th>y</th>\n",
       "    </tr>\n",
       "  </thead>\n",
       "  <tbody>\n",
       "    <tr>\n",
       "      <th>0</th>\n",
       "      <td>-31.869945</td>\n",
       "      <td>33.001252</td>\n",
       "    </tr>\n",
       "    <tr>\n",
       "      <th>1</th>\n",
       "      <td>0.764494</td>\n",
       "      <td>56.842901</td>\n",
       "    </tr>\n",
       "    <tr>\n",
       "      <th>2</th>\n",
       "      <td>-57.408276</td>\n",
       "      <td>13.124961</td>\n",
       "    </tr>\n",
       "    <tr>\n",
       "      <th>3</th>\n",
       "      <td>-2.168543</td>\n",
       "      <td>53.478590</td>\n",
       "    </tr>\n",
       "    <tr>\n",
       "      <th>4</th>\n",
       "      <td>-32.174085</td>\n",
       "      <td>30.388412</td>\n",
       "    </tr>\n",
       "  </tbody>\n",
       "</table>\n",
       "</div>"
      ],
      "text/plain": [
       "           x          y\n",
       "0 -31.869945  33.001252\n",
       "1   0.764494  56.842901\n",
       "2 -57.408276  13.124961\n",
       "3  -2.168543  53.478590\n",
       "4 -32.174085  30.388412"
      ]
     },
     "execution_count": 3,
     "metadata": {},
     "output_type": "execute_result"
    }
   ],
   "source": [
    "df.head()"
   ]
  },
  {
   "cell_type": "code",
   "execution_count": 4,
   "id": "375e0b7a",
   "metadata": {},
   "outputs": [
    {
     "name": "stdout",
     "output_type": "stream",
     "text": [
      "[[-31.86994476  33.00125207]\n",
      " [  0.76449405  56.84290063]\n",
      " [-57.40827565  13.1249607 ]\n",
      " [ -2.16854252  53.47859   ]\n",
      " [-32.17408464  30.38841187]\n",
      " [ -2.17695183  52.22726854]\n",
      " [-59.06568951   9.54376302]\n",
      " [ 12.37086222  61.61802085]\n",
      " [-66.31576903   3.2142316 ]\n",
      " [ -5.65556212  47.26722247]\n",
      " [-58.23659787   9.13418751]\n",
      " [ 14.62180432  62.10756847]\n",
      " [-55.1608374   10.07992511]]\n"
     ]
    }
   ],
   "source": [
    "for row in df:\n",
    "    data = df.values\n",
    "print(data)"
   ]
  },
  {
   "cell_type": "code",
   "execution_count": 5,
   "id": "e4ffda89",
   "metadata": {},
   "outputs": [
    {
     "data": {
      "image/png": "[encoded data removed]",
      "text/plain": [
       "<Figure size 640x480 with 1 Axes>"
      ]
     },
     "metadata": {},
     "output_type": "display_data"
    }
   ],
   "source": [
    "import matplotlib.pyplot as plt\n",
    "import numpy as np\n",
    "# Create the plot\n",
    "plt.scatter(data[:, 0], data[:, 1], c='blue', label='Data Points')\n",
    "plt.xlabel('X-axis')\n",
    "plt.ylabel('Y-axis')\n",
    "plt.legend()\n",
    "plt.grid(True)\n",
    "plt.show()"
   ]
  },
  {
   "cell_type": "code",
   "execution_count": 6,
   "id": "dd6087d5",
   "metadata": {},
   "outputs": [],
   "source": [
    "# define the function to calculate the distance\n",
    "def distance(p1,p2):\n",
    "    return np.sqrt(np.sum((p1-p2)**2))"
   ]
  },
  {
   "cell_type": "code",
   "execution_count": 7,
   "id": "8b6985c6",
   "metadata": {},
   "outputs": [],
   "source": [
    "# define the functions to assign centers\n",
    "def assign_clusters(clusters):\n",
    "    for i in range(len(data)):\n",
    "        dist = []\n",
    "        curr_x = data[i]\n",
    "        for j in range(k):\n",
    "            temp = distance(curr_x,clusters[j]['center'])\n",
    "            dist.append(temp)\n",
    "        curr_cluster = np.argmin(dist)\n",
    "        clusters[curr_cluster]['points'].append(curr_x)\n",
    "    return clusters"
   ]
  },
  {
   "cell_type": "code",
   "execution_count": 8,
   "id": "3cfc1a44",
   "metadata": {},
   "outputs": [],
   "source": [
    "#Implementing the M-Step\n",
    "def update_clusters(clusters):\n",
    "    for i in range(k):\n",
    "        points = np.array(clusters[i]['points'])\n",
    "        if len(points) > 0:\n",
    "            new_center = points.mean(axis =0)\n",
    "            clusters[i]['center'] = new_center\n",
    "            clusters[i]['points'] = []\n",
    "    return clusters"
   ]
  },
  {
   "cell_type": "code",
   "execution_count": 9,
   "id": "b72dde55",
   "metadata": {},
   "outputs": [],
   "source": [
    "def pred_cluster(clusters):\n",
    "    pred = []\n",
    "    for i in range(len(data)):\n",
    "        dist = []\n",
    "        for j in range(k):\n",
    "            dist.append(distance(data[i],clusters[j]['center']))\n",
    "        pred.append(np.argmin(dist))\n",
    "    return pred"
   ]
  },
  {
   "cell_type": "code",
   "execution_count": null,
   "id": "c07074a7",
   "metadata": {},
   "outputs": [],
   "source": [
    "import random\n",
    "k = 3\n",
    "clusters = {}\n",
    "centers = []\n",
    "for idx in range(k):\n",
    "    center = data[random.randint(0, 10)]\n",
    "    centers.append(center)\n",
    "    points = []\n",
    "    cluster = {\n",
    "        'center' : center,\n",
    "        'points' : []\n",
    "    }   \n",
    "    clusters[idx] = cluster   \n",
    "clusters"
   ]
  },
  {
   "cell_type": "code",
   "execution_count": null,
   "id": "fc1b6b43",
   "metadata": {},
   "outputs": [],
   "source": [
    "import matplotlib.pyplot as plt\n",
    "import numpy as np\n",
    "\n",
    "plt.scatter(data[:,0],data[:,1])\n",
    "plt.grid(True)\n",
    "for i in clusters:\n",
    "    center = clusters[i]['center']\n",
    "    plt.scatter(center[0],center[1],marker = '^',c = 'red')\n",
    "plt.show()"
   ]
  },
  {
   "cell_type": "code",
   "execution_count": null,
   "id": "c13bc90c",
   "metadata": {},
   "outputs": [],
   "source": [
    "flag = 0 \n",
    "clusters = assign_clusters(clusters)    \n",
    "num_loop = 0\n",
    "while flag==0:\n",
    "    list_center = []\n",
    "    for j in range(k):\n",
    "       list_center.append(clusters[j]['center'])\n",
    "    clusters = update_clusters(clusters)\n",
    "    for i in range(k):\n",
    "        print(np.round(clusters[i]['center'], decimals=2))\n",
    "        print(np.round(list_center[i], decimals=2))\n",
    "        temp=0\n",
    "        if np.array_equal(np.round(clusters[i]['center'], decimals=2), np.round(list_center[i], decimals=2)):\n",
    "            temp+=1\n",
    "    if(temp==k):\n",
    "        flag=1\n",
    "    else:\n",
    "        clusters = assign_clusters(clusters)\n",
    "        pred = pred_cluster(clusters)\n",
    "    "
   ]
  },
  {
   "cell_type": "code",
   "execution_count": null,
   "id": "f7be37aa",
   "metadata": {},
   "outputs": [],
   "source": [
    "plt.scatter(data[:,0],data[:,1],c = pred)\n",
    "for i in clusters:\n",
    "    center = clusters[i]['center']\n",
    "    plt.scatter(center[0],center[1],marker = '^',c = 'red')\n",
    "plt.show()"
   ]
  },
  {
   "cell_type": "code",
   "execution_count": null,
   "id": "e1fd1b00",
   "metadata": {},
   "outputs": [],
   "source": []
  },
  {
   "cell_type": "code",
   "execution_count": null,
   "id": "dc8b645d",
   "metadata": {},
   "outputs": [],
   "source": []
  }
 ],
 "metadata": {
  "kernelspec": {
   "display_name": "Python 3 (ipykernel)",
   "language": "python",
   "name": "python3"
  },
  "language_info": {
   "codemirror_mode": {
    "name": "ipython",
    "version": 3
   },
   "file_extension": ".py",
   "mimetype": "text/x-python",
   "name": "python",
   "nbconvert_exporter": "python",
   "pygments_lexer": "ipython3",
   "version": "3.11.0"
  }
 },
 "nbformat": 4,
 "nbformat_minor": 5
}
