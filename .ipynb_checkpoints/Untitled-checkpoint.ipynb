{
 "cells": [
  {
   "cell_type": "code",
   "execution_count": 1,
   "id": "cee546a1",
   "metadata": {},
   "outputs": [],
   "source": [
    "import numpy as np\n",
    "import pandas as pd"
   ]
  },
  {
   "cell_type": "code",
   "execution_count": 19,
   "id": "2dc7c517",
   "metadata": {},
   "outputs": [],
   "source": [
    "df = pd.read_csv('test_kmeans.csv', encoding='ISO-8859-1')"
   ]
  },
  {
   "cell_type": "code",
   "execution_count": 20,
   "id": "721d4e3d",
   "metadata": {},
   "outputs": [
    {
     "data": {
      "text/html": [
       "<div>\n",
       "<style scoped>\n",
       "    .dataframe tbody tr th:only-of-type {\n",
       "        vertical-align: middle;\n",
       "    }\n",
       "\n",
       "    .dataframe tbody tr th {\n",
       "        vertical-align: top;\n",
       "    }\n",
       "\n",
       "    .dataframe thead th {\n",
       "        text-align: right;\n",
       "    }\n",
       "</style>\n",
       "<table border=\"1\" class=\"dataframe\">\n",
       "  <thead>\n",
       "    <tr style=\"text-align: right;\">\n",
       "      <th></th>\n",
       "      <th>x</th>\n",
       "      <th>y</th>\n",
       "    </tr>\n",
       "  </thead>\n",
       "  <tbody>\n",
       "    <tr>\n",
       "      <th>0</th>\n",
       "      <td>-31.869945</td>\n",
       "      <td>33.001252</td>\n",
       "    </tr>\n",
       "    <tr>\n",
       "      <th>1</th>\n",
       "      <td>0.764494</td>\n",
       "      <td>56.842901</td>\n",
       "    </tr>\n",
       "    <tr>\n",
       "      <th>2</th>\n",
       "      <td>-57.408276</td>\n",
       "      <td>13.124961</td>\n",
       "    </tr>\n",
       "    <tr>\n",
       "      <th>3</th>\n",
       "      <td>-2.168543</td>\n",
       "      <td>53.478590</td>\n",
       "    </tr>\n",
       "    <tr>\n",
       "      <th>4</th>\n",
       "      <td>-32.174085</td>\n",
       "      <td>30.388412</td>\n",
       "    </tr>\n",
       "  </tbody>\n",
       "</table>\n",
       "</div>"
      ],
      "text/plain": [
       "           x          y\n",
       "0 -31.869945  33.001252\n",
       "1   0.764494  56.842901\n",
       "2 -57.408276  13.124961\n",
       "3  -2.168543  53.478590\n",
       "4 -32.174085  30.388412"
      ]
     },
     "execution_count": 20,
     "metadata": {},
     "output_type": "execute_result"
    }
   ],
   "source": [
    "df.head()"
   ]
  },
  {
   "cell_type": "code",
   "execution_count": 21,
   "id": "375e0b7a",
   "metadata": {},
   "outputs": [
    {
     "name": "stdout",
     "output_type": "stream",
     "text": [
      "[[-31.86994476  33.00125207]\n",
      " [  0.76449405  56.84290063]\n",
      " [-57.40827565  13.1249607 ]\n",
      " [ -2.16854252  53.47859   ]\n",
      " [-32.17408464  30.38841187]\n",
      " [ -2.17695183  52.22726854]\n",
      " [-59.06568951   9.54376302]\n",
      " [ 12.37086222  61.61802085]\n",
      " [-66.31576903   3.2142316 ]\n",
      " [ -5.65556212  47.26722247]\n",
      " [-58.23659787   9.13418751]\n",
      " [ 14.62180432  62.10756847]\n",
      " [-55.1608374   10.07992511]]\n"
     ]
    }
   ],
   "source": [
    "for row in df:\n",
    "    data = df.values\n",
    "print(data)"
   ]
  },
  {
   "cell_type": "code",
   "execution_count": 22,
   "id": "e4ffda89",
   "metadata": {},
   "outputs": [
    {
     "data": {
      "image/png": "[encoded data removed]",
      "text/plain": [
       "<Figure size 640x480 with 1 Axes>"
      ]
     },
     "metadata": {},
     "output_type": "display_data"
    }
   ],
   "source": [
    "import matplotlib.pyplot as plt\n",
    "import numpy as np\n",
    "x_coords = data[:, 0]\n",
    "y_coords = data[:, 1]\n",
    "\n",
    "# Create the plot\n",
    "plt.scatter(x_coords, y_coords, c='blue', label='Data Points')\n",
    "plt.xlabel('X-axis')\n",
    "plt.ylabel('Y-axis')\n",
    "plt.title('Scatter Plot of Data Points')\n",
    "plt.legend()\n",
    "plt.grid(True)\n",
    "plt.show()"
   ]
  },
  {
   "cell_type": "code",
   "execution_count": 23,
   "id": "dd6087d5",
   "metadata": {},
   "outputs": [],
   "source": [
    "# define the function to calculate the distance\n",
    "import math\n",
    "def dist(center, point):\n",
    "    d = 0.0\n",
    "    for i in range(0,len(point)):\n",
    "        d += (center[i]-point[i])**2\n",
    "    return math.sqrt(d)"
   ]
  },
  {
   "cell_type": "code",
   "execution_count": 24,
   "id": "8b6985c6",
   "metadata": {},
   "outputs": [],
   "source": [
    "# define the functions to assign centers\n",
    "def assignCenters(centers, dataset):\n",
    "    clusters = []\n",
    "    for i in range(len(dataset)):\n",
    "        distances = []\n",
    "        for center in centers:\n",
    "            distances.append(dist(center, dataset[i]))\n",
    "        temp = [z for z, val in enumerate(distances) if val==min(distances)]\n",
    "        clusters.append(temp[0])\n",
    "    return clusters"
   ]
  },
  {
   "cell_type": "code",
   "execution_count": 25,
   "id": "3cfc1a44",
   "metadata": {},
   "outputs": [],
   "source": [
    "# define the function to find the mean of the clusters\n",
    "def mean_center(k, dataset, clusters):\n",
    "    nCenters = []\n",
    "    for i in range(k):\n",
    "        x = 0.0\n",
    "        y = 0.0\n",
    "        count = 0\n",
    "        for j in range(len(clusters)):\n",
    "            if(i == clusters[j]):\n",
    "                x += dataset[j][0]\n",
    "                y += dataset[j][1]\n",
    "                count += 1\n",
    "        x = x/count\n",
    "        y = y/count\n",
    "        nCenters.append([x,y])\n",
    "    return nCenters"
   ]
  },
  {
   "cell_type": "code",
   "execution_count": null,
   "id": "c07074a7",
   "metadata": {},
   "outputs": [],
   "source": [
    "k = 3\n",
    "  \n",
    "clusters = {}\n",
    "np.random.seed(23)\n",
    "  \n",
    "for idx in range(k):\n",
    "    center = 2*(2*np.random.random((data.shape[1],))-1)\n",
    "    points = []\n",
    "    cluster = {\n",
    "        'center' : center,\n",
    "        'points' : []\n",
    "    }\n",
    "      \n",
    "    clusters[idx] = cluster\n",
    "      \n",
    "clusters"
   ]
  },
  {
   "cell_type": "code",
   "execution_count": null,
   "id": "b041c55a",
   "metadata": {},
   "outputs": [],
   "source": [
    "print(\"Initial centers: \")\n",
    "print(centers)\n",
    "print(\"Initial clusters: \")\n",
    "clusters = assignCenters(centers, data)\n",
    "for i in range(k):\n",
    "    print(\"cluster \"+str(i))\n",
    "    for j in range(len(clusters)):\n",
    "        if(i == clusters[j]):\n",
    "            print(data[j],end=' ')\n",
    "    print()\n",
    "print()\n",
    "for itr in range(10):\n",
    "    print(\"Iteration \"+str(itr))\n",
    "    centers = mean_center(k,data,clusters)\n",
    "    print(\"Updated centers: \")\n",
    "    print(centers)\n",
    "    clusters = assignCenters(centers, data)\n",
    "    print(\"Updated clusters: \")\n",
    "    for i in range(k):\n",
    "        print(\"cluster \"+str(i))\n",
    "        for j in range(len(clusters)):\n",
    "            if(i == clusters[j]):\n",
    "                print(data[j],end=' ')\n",
    "        print()\n",
    "    print()"
   ]
  },
  {
   "cell_type": "code",
   "execution_count": null,
   "id": "f7be37aa",
   "metadata": {},
   "outputs": [],
   "source": []
  }
 ],
 "metadata": {
  "kernelspec": {
   "display_name": "Python 3 (ipykernel)",
   "language": "python",
   "name": "python3"
  },
  "language_info": {
   "codemirror_mode": {
    "name": "ipython",
    "version": 3
   },
   "file_extension": ".py",
   "mimetype": "text/x-python",
   "name": "python",
   "nbconvert_exporter": "python",
   "pygments_lexer": "ipython3",
   "version": "3.11.0"
  }
 },
 "nbformat": 4,
 "nbformat_minor": 5
}
