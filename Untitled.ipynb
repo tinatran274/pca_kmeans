{
 "cells": [
  {
   "cell_type": "code",
   "execution_count": 1,
   "id": "cee546a1",
   "metadata": {},
   "outputs": [],
   "source": [
    "import numpy as np\n",
    "import pandas as pd"
   ]
  },
  {
   "cell_type": "code",
   "execution_count": null,
   "id": "2dc7c517",
   "metadata": {},
   "outputs": [],
   "source": [
    "df = pd.read_csv('test_kmeans.csv', encoding='ISO-8859-1')"
   ]
  },
  {
   "cell_type": "code",
   "execution_count": null,
   "id": "721d4e3d",
   "metadata": {},
   "outputs": [],
   "source": [
    "df.head()"
   ]
  },
  {
   "cell_type": "code",
   "execution_count": null,
   "id": "375e0b7a",
   "metadata": {},
   "outputs": [],
   "source": [
    "for row in df:\n",
    "    data = df.values\n",
    "print(data)"
   ]
  },
  {
   "cell_type": "code",
   "execution_count": null,
   "id": "e4ffda89",
   "metadata": {},
   "outputs": [],
   "source": [
    "import matplotlib.pyplot as plt\n",
    "import numpy as np\n",
    "x_coords = data[:, 0]\n",
    "y_coords = data[:, 1]\n",
    "\n",
    "# Create the plot\n",
    "plt.scatter(x_coords, y_coords, c='blue', label='Data Points')\n",
    "plt.xlabel('X-axis')\n",
    "plt.ylabel('Y-axis')\n",
    "plt.title('Scatter Plot of Data Points')\n",
    "plt.legend()\n",
    "plt.grid(True)\n",
    "plt.show()"
   ]
  },
  {
   "cell_type": "code",
   "execution_count": 23,
   "id": "dd6087d5",
   "metadata": {},
   "outputs": [],
   "source": [
    "# define the function to calculate the distance\n",
    "import math\n",
    "def dist(center, point):\n",
    "    d = 0.0\n",
    "    for i in range(0,len(point)):\n",
    "        d += (center[i]-point[i])**2\n",
    "    return math.sqrt(d)"
   ]
  },
  {
   "cell_type": "code",
   "execution_count": 24,
   "id": "8b6985c6",
   "metadata": {},
   "outputs": [],
   "source": [
    "# define the functions to assign centers\n",
    "def assignCenters(centers, dataset):\n",
    "    clusters = []\n",
    "    for i in range(len(dataset)):\n",
    "        distances = []\n",
    "        for center in centers:\n",
    "            distances.append(dist(center, dataset[i]))\n",
    "        temp = [z for z, val in enumerate(distances) if val==min(distances)]\n",
    "        clusters.append(temp[0])\n",
    "    return clusters"
   ]
  },
  {
   "cell_type": "code",
   "execution_count": 25,
   "id": "3cfc1a44",
   "metadata": {},
   "outputs": [],
   "source": [
    "# define the function to find the mean of the clusters\n",
    "def mean_center(k, dataset, clusters):\n",
    "    nCenters = []\n",
    "    for i in range(k):\n",
    "        x = 0.0\n",
    "        y = 0.0\n",
    "        count = 0\n",
    "        for j in range(len(clusters)):\n",
    "            if(i == clusters[j]):\n",
    "                x += dataset[j][0]\n",
    "                y += dataset[j][1]\n",
    "                count += 1\n",
    "        x = x/count\n",
    "        y = y/count\n",
    "        nCenters.append([x,y])\n",
    "    return nCenters"
   ]
  },
  {
   "cell_type": "code",
   "execution_count": null,
   "id": "c07074a7",
   "metadata": {},
   "outputs": [],
   "source": [
    "k = 3\n",
    "  \n",
    "clusters = {}\n",
    "np.random.seed(23)\n",
    "  \n",
    "for idx in range(k):\n",
    "    center = 2*(2*np.random.random((data.shape[1],))-1)\n",
    "    points = []\n",
    "    cluster = {\n",
    "        'center' : center,\n",
    "        'points' : []\n",
    "    }\n",
    "      \n",
    "    clusters[idx] = cluster\n",
    "      \n",
    "clusters"
   ]
  },
  {
   "cell_type": "code",
   "execution_count": null,
   "id": "b041c55a",
   "metadata": {},
   "outputs": [],
   "source": [
    "print(\"Initial centers: \")\n",
    "print(centers)\n",
    "print(\"Initial clusters: \")\n",
    "clusters = assignCenters(centers, data)\n",
    "for i in range(k):\n",
    "    print(\"cluster \"+str(i))\n",
    "    for j in range(len(clusters)):\n",
    "        if(i == clusters[j]):\n",
    "            print(data[j],end=' ')\n",
    "    print()\n",
    "print()\n",
    "for itr in range(10):\n",
    "    print(\"Iteration \"+str(itr))\n",
    "    centers = mean_center(k,data,clusters)\n",
    "    print(\"Updated centers: \")\n",
    "    print(centers)\n",
    "    clusters = assignCenters(centers, data)\n",
    "    print(\"Updated clusters: \")\n",
    "    for i in range(k):\n",
    "        print(\"cluster \"+str(i))\n",
    "        for j in range(len(clusters)):\n",
    "            if(i == clusters[j]):\n",
    "                print(data[j],end=' ')\n",
    "        print()\n",
    "    print()"
   ]
  },
  {
   "cell_type": "code",
   "execution_count": null,
   "id": "f7be37aa",
   "metadata": {},
   "outputs": [],
   "source": []
  }
 ],
 "metadata": {
  "kernelspec": {
   "display_name": "Python 3 (ipykernel)",
   "language": "python",
   "name": "python3"
  },
  "language_info": {
   "codemirror_mode": {
    "name": "ipython",
    "version": 3
   },
   "file_extension": ".py",
   "mimetype": "text/x-python",
   "name": "python",
   "nbconvert_exporter": "python",
   "pygments_lexer": "ipython3",
   "version": "3.11.0"
  }
 },
 "nbformat": 4,
 "nbformat_minor": 5
}
